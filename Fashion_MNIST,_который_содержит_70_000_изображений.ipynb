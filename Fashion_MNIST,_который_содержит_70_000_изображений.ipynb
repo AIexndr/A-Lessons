{
  "nbformat": 4,
  "nbformat_minor": 0,
  "metadata": {
    "colab": {
      "name": "Fashion MNIST, который содержит 70 000 изображений",
      "provenance": [],
      "collapsed_sections": [],
      "authorship_tag": "ABX9TyMoKf9HxBNyoKFlb4gvmpyn",
      "include_colab_link": true
    },
    "kernelspec": {
      "name": "python3",
      "display_name": "Python 3"
    },
    "language_info": {
      "name": "python"
    }
  },
  "cells": [
    {
      "cell_type": "markdown",
      "metadata": {
        "id": "view-in-github",
        "colab_type": "text"
      },
      "source": [
        "<a href=\"https://colab.research.google.com/github/AIexndr/A-Lessons/blob/Fasion-1/Fashion_MNIST%2C_%D0%BA%D0%BE%D1%82%D0%BE%D1%80%D1%8B%D0%B9_%D1%81%D0%BE%D0%B4%D0%B5%D1%80%D0%B6%D0%B8%D1%82_70_000_%D0%B8%D0%B7%D0%BE%D0%B1%D1%80%D0%B0%D0%B6%D0%B5%D0%BD%D0%B8%D0%B9.ipynb\" target=\"_parent\"><img src=\"https://colab.research.google.com/assets/colab-badge.svg\" alt=\"Open In Colab\"/></a>"
      ]
    },
    {
      "cell_type": "code",
      "source": [
        "#Подключаем библиотеки\n",
        "import tensorflow as tf\n",
        "from tensorflow import keras\n",
        "import numpy as np\n",
        "import matplotlib.pyplot as plt\n"
      ],
      "metadata": {
        "id": "1soMd4h_7QV4"
      },
      "execution_count": null,
      "outputs": []
    },
    {
      "cell_type": "code",
      "source": [
        "\n",
        "\"\"\"В этом руководстве используется набор данных Fashion MNIST, который содержит 70 000 изображений в оттенках серого в 10 категориях. На изображениях показаны отдельные предметы одежды с низким разрешением (28 на 28 пикселей):\n",
        "\n",
        "\n",
        "\n",
        "Мы будем использовать 60 000 изображений для обучения сети и 10 000 изображений, чтобы оценить, насколько точно сеть научилась классифицировать изображения. Вы можете получить доступ к Fashion MNIST непосредственно из TensorFlow, просто импортировав и загрузив данные:\n",
        "\n",
        "\n",
        "fashion_mnist = keras.datasets.fashion_mnist\n",
        "(train_images, train_labels), (test_images, test_labels) = fashion_mnist.load_data()\n",
        "\n",
        "Загрузка набора данных возвращает четыре массива NumPy:\n",
        "\n",
        "\n",
        "Массивы train_images и train_labels — это данные, которые использует модель для обучения\n",
        "Массивы test_images и test_labels используются для тестирования модели\n",
        "\n",
        "Изображения представляют собой NumPy массивы 28x28, значения пикселей которых находятся в диапазоне от 0 до 255. Метки (labels) представляют собой массив целых чисел от 0 до 9. Они соответствуют классу одежды:\n",
        "\n",
        "\n",
        "Метка\tКласс\n",
        "0\tT-shirt (Футболка)\n",
        "1\tTrouser (Брюки)\n",
        "2\tPullover (Свитер)\n",
        "3\tDress (Платье)\n",
        "4\tCoat (Пальто)\n",
        "5\tSandal (Сандали)\n",
        "6\t Shirt (Рубашка)\n",
        "7\tSneaker (Кроссовки)\n",
        "8\tBag (Сумка)\n",
        "9\tAnkle boot (Ботильоны)\n",
        "\n",
        "Имена классов не включены в набор данных, поэтому прописываем сами:\n",
        "\n",
        "\"\"\""
      ],
      "metadata": {
        "id": "6z_0m2zP7htr"
      },
      "execution_count": null,
      "outputs": []
    },
    {
      "cell_type": "code",
      "source": [
        "\n",
        "class_names = ['T-shirt/top', 'Trouser', 'Pullover', 'Dress', 'Coat', \n",
        "               'Sandal', 'Shirt', 'Sneaker', 'Bag', 'Ankle boot']\n",
        "\n",
        "#Исследование данных\n",
        "\n",
        "#Рассмотрим формат набора данных перед обучением модели.\n",
        "\n",
        "\n",
        "train_images.shape #В обучающем наборе имеется 60 000 изображений, каждое изображение представлено как 28 x 28 пикселей\n",
        "\n",
        "test_images.shape #В тестовом наборе имеется 10 000 изображений, каждое изображение представлено как 28 x 28 пикселей\n",
        "\n",
        "len(train_labels) #В учебном наборе 60 000 меток\n",
        "\n",
        "len(test_labels) #В тестовом наборе 10 000 меток\n",
        "\n",
        "train_labels #Каждая метка представляет собой целое число от 0 до 9 (Показывается первые 3 метки и последние 3 метки)\n",
        "\n",
        "#Предварительная обработка данных\n",
        "\n",
        "#Перед подготовкой модели данные должны быть предварительно обработаны. Если вы проверите первое изображение в тренировочном наборе, вы увидите, что значения пикселей находятся в диапазоне от 0 до 255:\n",
        "\n"
      ],
      "metadata": {
        "id": "AOSjBTiZ7w7a"
      },
      "execution_count": null,
      "outputs": []
    },
    {
      "cell_type": "code",
      "source": [
        "plt.figure()"
      ],
      "metadata": {
        "id": "Qd4g1AsL74ML"
      },
      "execution_count": null,
      "outputs": []
    },
    {
      "cell_type": "code",
      "source": [
        "plt.imshow(train_images[0])"
      ],
      "metadata": {
        "id": "q9P2fXt-754b"
      },
      "execution_count": null,
      "outputs": []
    },
    {
      "cell_type": "code",
      "source": [
        "plt.colorbar()"
      ],
      "metadata": {
        "id": "J-Bv7c3e77r-"
      },
      "execution_count": null,
      "outputs": []
    },
    {
      "cell_type": "code",
      "source": [
        "plt.grid(False)"
      ],
      "metadata": {
        "id": "s0ujWJKM71MK"
      },
      "execution_count": null,
      "outputs": []
    },
    {
      "cell_type": "code",
      "source": [
        "#Масштабируем эти значения до диапазона от 0 до 1:\n",
        "\n",
        "\n",
        "train_images = train_images / 255.0\n",
        "test_images = test_images / 255.0\n",
        "\n",
        "#Отобразим первые 25 изображений из тренировочного набора и покажем имя класса под каждым изображением. Убедимся, что данные находятся в правильном формате.\n",
        "\n",
        "\n",
        "plt.figure(figsize=(10,10))"
      ],
      "metadata": {
        "id": "mannhqeV8ISR"
      },
      "execution_count": null,
      "outputs": []
    },
    {
      "cell_type": "code",
      "source": [
        "for i in range(25):\n",
        "    plt.subplot(5,5,i+1)\n",
        "    plt.xticks([])\n",
        "    plt.yticks([])\n",
        "    plt.grid(False)\n",
        "    plt.imshow(train_images[i], cmap=plt.cm.binary)\n",
        "    plt.xlabel(class_names[train_labels[i]])"
      ],
      "metadata": {
        "id": "HcHueMja8OWK"
      },
      "execution_count": null,
      "outputs": []
    },
    {
      "cell_type": "code",
      "execution_count": null,
      "metadata": {
        "id": "kTIPv9087Lfs"
      },
      "outputs": [],
      "source": [
        "#Построение модели\n",
        "\n",
        "#Построение нейронной сети требует настройки слоев модели.\n",
        "\n",
        "\n",
        "#Основным строительным блоком нейронной сети является слой. Большая часть глубокого обучения состоит в объединении простых слоев. Большинство слоев, таких как tf.keras.layers.Dense, имеют параметры, которые изучаются во время обучения.\n",
        "\n",
        "\n",
        "model = keras.Sequential([\n",
        "    keras.layers.Flatten(input_shape=(28, 28)),\n",
        "    keras.layers.Dense(128, activation=tf.nn.relu),\n",
        "    keras.layers.Dense(10, activation=tf.nn.softmax)\n",
        "])\n",
        "\n",
        "#Первый слой в сети tf.keras.layers.Flatten преобразует формат изображений из 2d-массива (28 на 28 пикселей) в 1d-массив из 28 * 28 = 784 пикселей. У этого слоя нет параметров для изучения, он только переформатирует данные.\n",
        "\n",
        "\n",
        "#Следующие два слоя это tf.keras.layers.Dense. Это плотно связанные или полностью связанные нейронные слои. Первый слой Dense содержит 128 узлов (или нейронов). Второй (и последний) уровень — это слой с 10 узлами tf.nn.softmax, который возвращает массив из десяти вероятностных оценок, сумма которых равна 1. Каждый узел содержит оценку, которая указывает вероятность того, что текущее изображение принадлежит одному из 10 классов.\n",
        "\n",
        "\n",
        "#Скомпилирование модели\n",
        "\n",
        "#Прежде чем модель будет готова к обучению, ей потребуется еще несколько настроек. Они добавляются во время этапа компиляции модели:\n",
        "\n",
        "\n",
        "#Loss function (функция потери) — измеряет насколько точная модель во время обучения\n",
        "#Optimizer (оптимизатор) — это то, как модель обновляется на основе данных, которые она видит, и функции потери\n",
        "#Metrics (метрики) — используется для контроля за этапами обучения и тестирования\n",
        "\n",
        "model.compile(optimizer=tf.train.AdamOptimizer(), \n",
        "              loss='sparse_categorical_crossentropy',\n",
        "              metrics=['accuracy'])\n",
        "\n",
        "#Обучение модели\n",
        "\n",
        "#Обучение модели нейронной сети требует следующих шагов:\n",
        "\n",
        "\n",
        "#Подача данных обучения модели (в этом примере — массивы train_images и train_labels)\n",
        "#Модель учится ассоциировать изображения и метки\n",
        "#Мы просим модель сделать прогнозы о тестовом наборе (в этом примере — массив test_images). Мы проверяем соответствие прогнозов меток из массива меток (в этом примере — массив test_labels)\n",
        "\n",
        "#Чтобы начать обучение, вызовите метод model.fit:\n",
        "\n",
        "\n",
        "model.fit(train_images, train_labels, epochs=5)\n",
        "\n",
        "\n",
        "#При моделировании модели отображаются показатели потерь (loss) и точности (acc). Эта модель достигает точности около 0,88 (или 88%) по данным обучения.\n",
        "\n",
        "\n",
        "#Оценка точности\n",
        "\n",
        "#Сравним, как модель работает в тестовом наборе данных:\n",
        "\n",
        "\n",
        "test_loss, test_acc = model.evaluate(test_images, test_labels)\n",
        "print('Test accuracy:', test_acc)\n",
        "\n",
        "\n",
        "#Оказывается, точность в тестовом наборе данных немного меньше точности в тренировочном наборе. Этот разрыв между точностью обучения и точностью тестирования является примером переобучения. Переобучение — это когда модель машинного обучения хуже работает с новыми данными, чем с данными обучения.\n",
        "\n",
        "\n",
        "#Прогнозирование\n",
        "\n",
        "#Используем модель для прогнозирования некоторых изображений.\n",
        "\n",
        "\n",
        "predictions = model.predict(test_images)\n",
        "\n",
        "#Здесь модель предсказала метку для каждого изображения в тестовом наборе. Давайте посмотрим на первое предсказание:\n",
        "\n",
        "\n",
        "predictions[0]\n",
        "\n",
        "\n",
        "#Предсказание представляет собой массив из 10 чисел. Они описывают «уверенность» модели в том, что изображение соответствует каждому из 10 разных предметов одежды. Мы можем видеть, какая метка имеет наибольшее доверительное значение:\n",
        "\n",
        "\n",
        "np.argmax(predictions[0]) #9\n",
        "\n",
        "#Таким образом, модель наиболее уверенна в том, что это изображение — Ankle boot (Ботильоны), или class_names [9]. И мы можем проверить тестовую метку, чтобы убедиться, что это правильно:\n",
        "\n",
        "\n",
        "test_labels[0]  #9\n",
        "\n",
        "#Напишем функции для визуализации этих предсказаний\n",
        "\n",
        "\n",
        "def plot_image(i, predictions_array, true_label, img):\n",
        "  predictions_array, true_label, img = predictions_array[i], true_label[i], img[i]\n",
        "  plt.grid(False)\n",
        "  plt.xticks([])\n",
        "  plt.yticks([])\n",
        "\n",
        "  plt.imshow(img, cmap=plt.cm.binary)\n",
        "\n",
        "  predicted_label = np.argmax(predictions_array)\n",
        "  if predicted_label == true_label:\n",
        "    color = 'blue'\n",
        "  else:\n",
        "    color = 'red'\n",
        "\n",
        "  plt.xlabel(\"{} {:2.0f}% ({})\".format(class_names[predicted_label],\n",
        "                                100*np.max(predictions_array),\n",
        "                                class_names[true_label]),\n",
        "                                color=color)\n",
        "\n",
        "def plot_value_array(i, predictions_array, true_label):\n",
        "  predictions_array, true_label = predictions_array[i], true_label[i]\n",
        "  plt.grid(False)\n",
        "  plt.xticks([])\n",
        "  plt.yticks([])\n",
        "  thisplot = plt.bar(range(10), predictions_array, color=\"#777777\")\n",
        "  plt.ylim([0, 1]) \n",
        "  predicted_label = np.argmax(predictions_array)\n",
        "\n",
        "  thisplot[predicted_label].set_color('red')\n",
        "  thisplot[true_label].set_color('blue')\n",
        "\n",
        "#Давайте посмотрим на 0-е изображение, предсказания и массив предсказаний.\n",
        "\n",
        "\n",
        "i = 0\n",
        "plt.figure(figsize=(6,3))\n",
        "plt.subplot(1,2,1)\n",
        "plot_image(i, predictions, test_labels, test_images)\n",
        "plt.subplot(1,2,2)\n",
        "plot_value_array(i, predictions,  test_labels)\n",
        "\n",
        "\n",
        "#Построим несколько изображений с их прогнозами. Правильные метки прогноза — синие, а неправильные метки прогноза — красные. Обратите внимание, что это может быть неправильно, даже когда он очень уверен.\n",
        "\n",
        "\n",
        "num_rows = 5\n",
        "num_cols = 3\n",
        "num_images = num_rows*num_cols\n",
        "plt.figure(figsize=(2*2*num_cols, 2*num_rows))\n",
        "for i in range(num_images):\n",
        "  plt.subplot(num_rows, 2*num_cols, 2*i+1)\n",
        "  plot_image(i, predictions, test_labels, test_images)\n",
        "  plt.subplot(num_rows, 2*num_cols, 2*i+2)\n",
        "  plot_value_array(i, predictions, test_labels)\n",
        "\n",
        "\n",
        "#Наконец, используем обученную модель, чтобы сделать предсказание об одном изображении.\n",
        "\n",
        "\n",
        "# Возьмём изображение из тестового набора данных\n",
        "img = test_images[0]\n",
        "\n",
        "Модели tf.keras оптимизированы для того, чтобы делать прогнозы на пакеты (batch) или коллекции (collection). Поэтому, хотя мы используем одно изображение, нам нужно добавить его в список:\n",
        "\n",
        "\n",
        "#Добавим изображение в пакет, где он является единственным членом\n",
        "img = (np.expand_dims (img, 0))\n",
        "\n",
        "#Прогноз для изображения:\n",
        "\n",
        "\n",
        "predictions_single = model.predict(img)\n",
        "print(predictions_single)\n",
        "\n",
        "\n",
        "plot_value_array(0, predictions_single, test_labels)\n",
        "_ = plt.xticks(range(10), class_names, rotation=45)\n",
        "\n"
      ]
    }
  ]
}